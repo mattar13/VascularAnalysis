{
 "cells": [
  {
   "cell_type": "markdown",
   "id": "b5223d52",
   "metadata": {},
   "source": [
    "# Vessel Tracing Pipeline Demo\n",
    "\n",
    "This notebook demonstrates the complete vessel tracing pipeline with visualizations at each step."
   ]
  },
  {
   "cell_type": "code",
   "execution_count": null,
   "id": "6e50fc0d",
   "metadata": {},
   "outputs": [],
   "source": [
    "!pip install VascularAnalysis"
   ]
  },
  {
   "cell_type": "code",
   "execution_count": 1,
   "id": "fe4ab6e6",
   "metadata": {},
   "outputs": [
    {
     "ename": "ModuleNotFoundError",
     "evalue": "No module named 'numpy'",
     "output_type": "error",
     "traceback": [
      "\u001b[1;31m---------------------------------------------------------------------------\u001b[0m",
      "\u001b[1;31mModuleNotFoundError\u001b[0m                       Traceback (most recent call last)",
      "Cell \u001b[1;32mIn[1], line 1\u001b[0m\n\u001b[1;32m----> 1\u001b[0m \u001b[38;5;28;01mimport\u001b[39;00m \u001b[38;5;21;01mnumpy\u001b[39;00m \u001b[38;5;28;01mas\u001b[39;00m \u001b[38;5;21;01mnp\u001b[39;00m\n\u001b[0;32m      2\u001b[0m \u001b[38;5;28;01mimport\u001b[39;00m \u001b[38;5;21;01mmatplotlib\u001b[39;00m\u001b[38;5;21;01m.\u001b[39;00m\u001b[38;5;21;01mpyplot\u001b[39;00m \u001b[38;5;28;01mas\u001b[39;00m \u001b[38;5;21;01mplt\u001b[39;00m\n\u001b[0;32m      3\u001b[0m \u001b[38;5;28;01mfrom\u001b[39;00m \u001b[38;5;21;01mpathlib\u001b[39;00m \u001b[38;5;28;01mimport\u001b[39;00m Path\n",
      "\u001b[1;31mModuleNotFoundError\u001b[0m: No module named 'numpy'"
     ]
    }
   ],
   "source": [
    "import numpy as np\n",
    "import matplotlib.pyplot as plt\n",
    "from pathlib import Path\n",
    "from VesselTracer import VesselTracer\n",
    "import tifffile\n",
    "from mpl_toolkits.axes_grid1 import ImageGrid\n",
    "\n",
    "# Set up plotting style\n",
    "plt.style.use('seaborn')\n",
    "plt.rcParams['figure.figsize'] = [12, 8]"
   ]
  },
  {
   "cell_type": "code",
   "execution_count": 2,
   "id": "15694aa1",
   "metadata": {},
   "outputs": [
    {
     "name": "stderr",
     "output_type": "stream",
     "text": [
      "ERROR: Could not find a version that satisfies the requirement VascularAnalysis (from versions: none)\n",
      "ERROR: No matching distribution found for VascularAnalysis\n"
     ]
    }
   ],
   "source": [
    "!pip install VascularAnalysis"
   ]
  },
  {
   "cell_type": "markdown",
   "id": "5c0698c7",
   "metadata": {},
   "source": [
    "## 1. Load and Display Input Data"
   ]
  },
  {
   "cell_type": "code",
   "execution_count": null,
   "id": "4966cf71",
   "metadata": {},
   "outputs": [],
   "source": [
    "# Initialize the VesselTracer with your input file\n",
    "input_path = Path(\"../test/test_files/240207_002.czi\")  # Update this path to your input file\n",
    "tracer = VesselTracer(input_path)\n",
    "\n",
    "# Display the original volume\n",
    "def plot_volume_slices(volume, title=\"Original Volume\", num_slices=5):\n",
    "    fig = plt.figure(figsize=(15, 10))\n",
    "    grid = ImageGrid(fig, 111,\n",
    "                    nrows_ncols=(1, num_slices),\n",
    "                    axes_pad=0.1,\n",
    "                    share_all=True)\n",
    "    \n",
    "    # Select evenly spaced slices\n",
    "    z_indices = np.linspace(0, volume.shape[0]-1, num_slices, dtype=int)\n",
    "    \n",
    "    for idx, z in enumerate(z_indices):\n",
    "        im = grid[idx].imshow(volume[z], cmap='gray')\n",
    "        grid[idx].set_title(f'Z-slice {z}')\n",
    "        grid[idx].axis('off')\n",
    "    \n",
    "    plt.colorbar(im, ax=grid.axes_all)\n",
    "    plt.suptitle(title, y=1.02)\n",
    "    plt.show()\n",
    "\n",
    "plot_volume_slices(tracer.volume)"
   ]
  },
  {
   "cell_type": "markdown",
   "id": "cb8d97e7",
   "metadata": {},
   "source": [
    "## 2. ROI Extraction and Preprocessing"
   ]
  },
  {
   "cell_type": "code",
   "execution_count": null,
   "id": "fb73ec07",
   "metadata": {},
   "outputs": [],
   "source": [
    "# Extract ROI and apply preprocessing\n",
    "tracer.segment_roi()\n",
    "tracer.median_filter()\n",
    "tracer.background_smoothing()\n",
    "tracer.detrend()\n",
    "\n",
    "# Plot the preprocessed volume\n",
    "plot_volume_slices(tracer.volume, title=\"Preprocessed Volume\")"
   ]
  },
  {
   "cell_type": "markdown",
   "id": "bf82344c",
   "metadata": {},
   "source": [
    "## 3. Smoothing"
   ]
  },
  {
   "cell_type": "code",
   "execution_count": null,
   "id": "ba4ce754",
   "metadata": {},
   "outputs": [],
   "source": [
    "# Apply smoothing\n",
    "tracer.smooth()\n",
    "\n",
    "# Plot the smoothed volume\n",
    "plot_volume_slices(tracer.smoothed, title=\"Smoothed Volume\") "
   ]
  }
 ],
 "metadata": {
  "jupytext": {
   "cell_metadata_filter": "-all",
   "main_language": "python",
   "notebook_metadata_filter": "-all"
  },
  "kernelspec": {
   "display_name": "vessel_analysis",
   "language": "python",
   "name": "python3"
  },
  "language_info": {
   "codemirror_mode": {
    "name": "ipython",
    "version": 3
   },
   "file_extension": ".py",
   "mimetype": "text/x-python",
   "name": "python",
   "nbconvert_exporter": "python",
   "pygments_lexer": "ipython3",
   "version": "3.8.20"
  }
 },
 "nbformat": 4,
 "nbformat_minor": 5
}
